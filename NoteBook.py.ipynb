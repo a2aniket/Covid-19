{
 "cells": [
  {
   "cell_type": "code",
   "execution_count": 420,
   "metadata": {},
   "outputs": [],
   "source": [
    "import pandas as pd\n",
    "import seaborn as sns\n",
    "import numpy as np\n",
    "import numpy\n",
    "from matplotlib import pyplot as plt\n",
    "from sklearn.preprocessing import MinMaxScaler\n",
    "from keras.layers import Dense\n",
    "from keras.layers import LSTM\n",
    "from keras.layers import Dropout\n",
    "from keras.models import Sequential"
   ]
  },
  {
   "cell_type": "code",
   "execution_count": 421,
   "metadata": {},
   "outputs": [
    {
     "data": {
      "text/html": [
       "<div>\n",
       "<style scoped>\n",
       "    .dataframe tbody tr th:only-of-type {\n",
       "        vertical-align: middle;\n",
       "    }\n",
       "\n",
       "    .dataframe tbody tr th {\n",
       "        vertical-align: top;\n",
       "    }\n",
       "\n",
       "    .dataframe thead th {\n",
       "        text-align: right;\n",
       "    }\n",
       "</style>\n",
       "<table border=\"1\" class=\"dataframe\">\n",
       "  <thead>\n",
       "    <tr style=\"text-align: right;\">\n",
       "      <th></th>\n",
       "      <th>Sno</th>\n",
       "      <th>Date</th>\n",
       "      <th>Time</th>\n",
       "      <th>State/UnionTerritory</th>\n",
       "      <th>ConfirmedIndianNational</th>\n",
       "      <th>ConfirmedForeignNational</th>\n",
       "      <th>Cured</th>\n",
       "      <th>Deaths</th>\n",
       "      <th>Confirmed</th>\n",
       "    </tr>\n",
       "  </thead>\n",
       "  <tbody>\n",
       "    <tr>\n",
       "      <th>0</th>\n",
       "      <td>1</td>\n",
       "      <td>30/01/20</td>\n",
       "      <td>6:00 PM</td>\n",
       "      <td>Kerala</td>\n",
       "      <td>1</td>\n",
       "      <td>0</td>\n",
       "      <td>0</td>\n",
       "      <td>0</td>\n",
       "      <td>1</td>\n",
       "    </tr>\n",
       "    <tr>\n",
       "      <th>1</th>\n",
       "      <td>2</td>\n",
       "      <td>31/01/20</td>\n",
       "      <td>6:00 PM</td>\n",
       "      <td>Kerala</td>\n",
       "      <td>1</td>\n",
       "      <td>0</td>\n",
       "      <td>0</td>\n",
       "      <td>0</td>\n",
       "      <td>1</td>\n",
       "    </tr>\n",
       "    <tr>\n",
       "      <th>2</th>\n",
       "      <td>3</td>\n",
       "      <td>01/02/20</td>\n",
       "      <td>6:00 PM</td>\n",
       "      <td>Kerala</td>\n",
       "      <td>2</td>\n",
       "      <td>0</td>\n",
       "      <td>0</td>\n",
       "      <td>0</td>\n",
       "      <td>2</td>\n",
       "    </tr>\n",
       "    <tr>\n",
       "      <th>3</th>\n",
       "      <td>4</td>\n",
       "      <td>02/02/20</td>\n",
       "      <td>6:00 PM</td>\n",
       "      <td>Kerala</td>\n",
       "      <td>3</td>\n",
       "      <td>0</td>\n",
       "      <td>0</td>\n",
       "      <td>0</td>\n",
       "      <td>3</td>\n",
       "    </tr>\n",
       "    <tr>\n",
       "      <th>4</th>\n",
       "      <td>5</td>\n",
       "      <td>03/02/20</td>\n",
       "      <td>6:00 PM</td>\n",
       "      <td>Kerala</td>\n",
       "      <td>3</td>\n",
       "      <td>0</td>\n",
       "      <td>0</td>\n",
       "      <td>0</td>\n",
       "      <td>3</td>\n",
       "    </tr>\n",
       "  </tbody>\n",
       "</table>\n",
       "</div>"
      ],
      "text/plain": [
       "   Sno      Date     Time State/UnionTerritory ConfirmedIndianNational  \\\n",
       "0    1  30/01/20  6:00 PM               Kerala                       1   \n",
       "1    2  31/01/20  6:00 PM               Kerala                       1   \n",
       "2    3  01/02/20  6:00 PM               Kerala                       2   \n",
       "3    4  02/02/20  6:00 PM               Kerala                       3   \n",
       "4    5  03/02/20  6:00 PM               Kerala                       3   \n",
       "\n",
       "  ConfirmedForeignNational  Cured  Deaths  Confirmed  \n",
       "0                        0      0       0          1  \n",
       "1                        0      0       0          1  \n",
       "2                        0      0       0          2  \n",
       "3                        0      0       0          3  \n",
       "4                        0      0       0          3  "
      ]
     },
     "execution_count": 421,
     "metadata": {},
     "output_type": "execute_result"
    }
   ],
   "source": [
    "data=pd.read_csv(\"Covid19.csv\")\n",
    "data.head()"
   ]
  },
  {
   "cell_type": "code",
   "execution_count": 422,
   "metadata": {},
   "outputs": [
    {
     "data": {
      "text/html": [
       "<div>\n",
       "<style scoped>\n",
       "    .dataframe tbody tr th:only-of-type {\n",
       "        vertical-align: middle;\n",
       "    }\n",
       "\n",
       "    .dataframe tbody tr th {\n",
       "        vertical-align: top;\n",
       "    }\n",
       "\n",
       "    .dataframe thead th {\n",
       "        text-align: right;\n",
       "    }\n",
       "</style>\n",
       "<table border=\"1\" class=\"dataframe\">\n",
       "  <thead>\n",
       "    <tr style=\"text-align: right;\">\n",
       "      <th></th>\n",
       "      <th>Sno</th>\n",
       "      <th>Date</th>\n",
       "      <th>Time</th>\n",
       "      <th>State/UnionTerritory</th>\n",
       "      <th>ConfirmedIndianNational</th>\n",
       "      <th>ConfirmedForeignNational</th>\n",
       "      <th>Cured</th>\n",
       "      <th>Deaths</th>\n",
       "      <th>Confirmed</th>\n",
       "    </tr>\n",
       "  </thead>\n",
       "  <tbody>\n",
       "    <tr>\n",
       "      <th>3850</th>\n",
       "      <td>3851</td>\n",
       "      <td>07/07/20</td>\n",
       "      <td>8:00 AM</td>\n",
       "      <td>Tripura</td>\n",
       "      <td>-</td>\n",
       "      <td>-</td>\n",
       "      <td>1219</td>\n",
       "      <td>1</td>\n",
       "      <td>1680</td>\n",
       "    </tr>\n",
       "    <tr>\n",
       "      <th>3851</th>\n",
       "      <td>3852</td>\n",
       "      <td>07/07/20</td>\n",
       "      <td>8:00 AM</td>\n",
       "      <td>Uttarakhand</td>\n",
       "      <td>-</td>\n",
       "      <td>-</td>\n",
       "      <td>2586</td>\n",
       "      <td>42</td>\n",
       "      <td>3161</td>\n",
       "    </tr>\n",
       "    <tr>\n",
       "      <th>3852</th>\n",
       "      <td>3853</td>\n",
       "      <td>07/07/20</td>\n",
       "      <td>8:00 AM</td>\n",
       "      <td>Uttar Pradesh</td>\n",
       "      <td>-</td>\n",
       "      <td>-</td>\n",
       "      <td>19109</td>\n",
       "      <td>809</td>\n",
       "      <td>28636</td>\n",
       "    </tr>\n",
       "    <tr>\n",
       "      <th>3853</th>\n",
       "      <td>3854</td>\n",
       "      <td>07/07/20</td>\n",
       "      <td>8:00 AM</td>\n",
       "      <td>West Bengal</td>\n",
       "      <td>-</td>\n",
       "      <td>-</td>\n",
       "      <td>15235</td>\n",
       "      <td>779</td>\n",
       "      <td>22987</td>\n",
       "    </tr>\n",
       "    <tr>\n",
       "      <th>3854</th>\n",
       "      <td>3855</td>\n",
       "      <td>07/07/20</td>\n",
       "      <td>8:00 AM</td>\n",
       "      <td>Cases being reassigned to states</td>\n",
       "      <td>-</td>\n",
       "      <td>-</td>\n",
       "      <td>0</td>\n",
       "      <td>0</td>\n",
       "      <td>5034</td>\n",
       "    </tr>\n",
       "  </tbody>\n",
       "</table>\n",
       "</div>"
      ],
      "text/plain": [
       "       Sno      Date     Time              State/UnionTerritory  \\\n",
       "3850  3851  07/07/20  8:00 AM                           Tripura   \n",
       "3851  3852  07/07/20  8:00 AM                       Uttarakhand   \n",
       "3852  3853  07/07/20  8:00 AM                     Uttar Pradesh   \n",
       "3853  3854  07/07/20  8:00 AM                       West Bengal   \n",
       "3854  3855  07/07/20  8:00 AM  Cases being reassigned to states   \n",
       "\n",
       "     ConfirmedIndianNational ConfirmedForeignNational  Cured  Deaths  \\\n",
       "3850                       -                        -   1219       1   \n",
       "3851                       -                        -   2586      42   \n",
       "3852                       -                        -  19109     809   \n",
       "3853                       -                        -  15235     779   \n",
       "3854                       -                        -      0       0   \n",
       "\n",
       "      Confirmed  \n",
       "3850       1680  \n",
       "3851       3161  \n",
       "3852      28636  \n",
       "3853      22987  \n",
       "3854       5034  "
      ]
     },
     "execution_count": 422,
     "metadata": {},
     "output_type": "execute_result"
    }
   ],
   "source": [
    "data.tail()"
   ]
  },
  {
   "cell_type": "code",
   "execution_count": 423,
   "metadata": {},
   "outputs": [
    {
     "data": {
      "text/plain": [
       "<matplotlib.axes._subplots.AxesSubplot at 0x1fcf53a33c8>"
      ]
     },
     "execution_count": 423,
     "metadata": {},
     "output_type": "execute_result"
    },
    {
     "data": {
      "image/png": "[encoded data removed]",
      "text/plain": [
       "<Figure size 432x288 with 1 Axes>"
      ]
     },
     "metadata": {
      "needs_background": "light"
     },
     "output_type": "display_data"
    }
   ],
   "source": [
    "data.Confirmed.hist()"
   ]
  },
  {
   "cell_type": "code",
   "execution_count": 424,
   "metadata": {},
   "outputs": [],
   "source": [
    "data=data.groupby(\"Date\",sort=False,as_index=False)[\"Confirmed\"].sum()"
   ]
  },
  {
   "cell_type": "code",
   "execution_count": 425,
   "metadata": {},
   "outputs": [
    {
     "data": {
      "text/html": [
       "<div>\n",
       "<style scoped>\n",
       "    .dataframe tbody tr th:only-of-type {\n",
       "        vertical-align: middle;\n",
       "    }\n",
       "\n",
       "    .dataframe tbody tr th {\n",
       "        vertical-align: top;\n",
       "    }\n",
       "\n",
       "    .dataframe thead th {\n",
       "        text-align: right;\n",
       "    }\n",
       "</style>\n",
       "<table border=\"1\" class=\"dataframe\">\n",
       "  <thead>\n",
       "    <tr style=\"text-align: right;\">\n",
       "      <th></th>\n",
       "      <th>Date</th>\n",
       "      <th>Confirmed</th>\n",
       "    </tr>\n",
       "  </thead>\n",
       "  <tbody>\n",
       "    <tr>\n",
       "      <th>0</th>\n",
       "      <td>30/01/20</td>\n",
       "      <td>1</td>\n",
       "    </tr>\n",
       "    <tr>\n",
       "      <th>1</th>\n",
       "      <td>31/01/20</td>\n",
       "      <td>1</td>\n",
       "    </tr>\n",
       "    <tr>\n",
       "      <th>2</th>\n",
       "      <td>01/02/20</td>\n",
       "      <td>2</td>\n",
       "    </tr>\n",
       "    <tr>\n",
       "      <th>3</th>\n",
       "      <td>02/02/20</td>\n",
       "      <td>3</td>\n",
       "    </tr>\n",
       "    <tr>\n",
       "      <th>4</th>\n",
       "      <td>03/02/20</td>\n",
       "      <td>3</td>\n",
       "    </tr>\n",
       "  </tbody>\n",
       "</table>\n",
       "</div>"
      ],
      "text/plain": [
       "       Date  Confirmed\n",
       "0  30/01/20          1\n",
       "1  31/01/20          1\n",
       "2  01/02/20          2\n",
       "3  02/02/20          3\n",
       "4  03/02/20          3"
      ]
     },
     "execution_count": 425,
     "metadata": {},
     "output_type": "execute_result"
    }
   ],
   "source": [
    "data.head()"
   ]
  },
  {
   "cell_type": "code",
   "execution_count": 426,
   "metadata": {},
   "outputs": [
    {
     "data": {
      "text/plain": [
       "array([[<matplotlib.axes._subplots.AxesSubplot object at 0x000001FCF532CC48>]],\n",
       "      dtype=object)"
      ]
     },
     "execution_count": 426,
     "metadata": {},
     "output_type": "execute_result"
    },
    {
     "data": {
      "image/png": "[encoded data removed]",
      "text/plain": [
       "<Figure size 432x288 with 1 Axes>"
      ]
     },
     "metadata": {
      "needs_background": "light"
     },
     "output_type": "display_data"
    }
   ],
   "source": [
    "data.hist()"
   ]
  },
  {
   "cell_type": "code",
   "execution_count": 427,
   "metadata": {},
   "outputs": [
    {
     "data": {
      "text/plain": [
       "<matplotlib.axes._subplots.AxesSubplot at 0x1fcf52e8408>"
      ]
     },
     "execution_count": 427,
     "metadata": {},
     "output_type": "execute_result"
    },
    {
     "data": {
      "image/png": "[encoded data removed]",
      "text/plain": [
       "<Figure size 432x288 with 1 Axes>"
      ]
     },
     "metadata": {
      "needs_background": "light"
     },
     "output_type": "display_data"
    }
   ],
   "source": [
    "data.plot()"
   ]
  },
  {
   "cell_type": "code",
   "execution_count": 428,
   "metadata": {},
   "outputs": [
    {
     "data": {
      "text/plain": [
       "(160,)"
      ]
     },
     "execution_count": 428,
     "metadata": {},
     "output_type": "execute_result"
    }
   ],
   "source": [
    "df=data[\"Confirmed\"]+.0\n",
    "df.shape"
   ]
  },
  {
   "cell_type": "code",
   "execution_count": 429,
   "metadata": {},
   "outputs": [
    {
     "data": {
      "text/plain": [
       "0       0.000000\n",
       "1       0.000000\n",
       "2       0.693147\n",
       "3       1.098612\n",
       "4       1.098612\n",
       "         ...    \n",
       "155    13.346377\n",
       "156    13.382132\n",
       "157    13.419746\n",
       "158    13.455133\n",
       "159    13.486541\n",
       "Name: Confirmed, Length: 160, dtype: float64"
      ]
     },
     "execution_count": 429,
     "metadata": {},
     "output_type": "execute_result"
    }
   ],
   "source": [
    "df=np.log(df)\n",
    "df"
   ]
  },
  {
   "cell_type": "code",
   "execution_count": 430,
   "metadata": {},
   "outputs": [],
   "source": [
    "from sklearn.preprocessing import MinMaxScaler\n",
    "scaler=MinMaxScaler(feature_range=(0, 1))\n",
    "df=scaler.fit_transform(np.array(df).reshape(-1,1))"
   ]
  },
  {
   "cell_type": "code",
   "execution_count": 431,
   "metadata": {},
   "outputs": [
    {
     "data": {
      "text/plain": [
       "array([[0.        ],\n",
       "       [0.        ],\n",
       "       [0.05139547],\n",
       "       [0.0814599 ],\n",
       "       [0.0814599 ],\n",
       "       [0.0814599 ],\n",
       "       [0.0814599 ],\n",
       "       [0.0814599 ],\n",
       "       [0.0814599 ],\n",
       "       [0.0814599 ],\n",
       "       [0.0814599 ],\n",
       "       [0.0814599 ],\n",
       "       [0.0814599 ],\n",
       "       [0.0814599 ],\n",
       "       [0.0814599 ],\n",
       "       [0.0814599 ],\n",
       "       [0.0814599 ],\n",
       "       [0.0814599 ],\n",
       "       [0.0814599 ],\n",
       "       [0.0814599 ],\n",
       "       [0.0814599 ],\n",
       "       [0.0814599 ],\n",
       "       [0.0814599 ],\n",
       "       [0.0814599 ],\n",
       "       [0.0814599 ],\n",
       "       [0.0814599 ],\n",
       "       [0.0814599 ],\n",
       "       [0.0814599 ],\n",
       "       [0.0814599 ],\n",
       "       [0.0814599 ],\n",
       "       [0.0814599 ],\n",
       "       [0.0814599 ],\n",
       "       [0.1193366 ],\n",
       "       [0.13285537],\n",
       "       [0.24707629],\n",
       "       [0.25219197],\n",
       "       [0.25462327],\n",
       "       [0.26147257],\n",
       "       [0.27164576],\n",
       "       [0.28388609],\n",
       "       [0.30107371],\n",
       "       [0.30358745],\n",
       "       [0.3191378 ],\n",
       "       [0.3258396 ],\n",
       "       [0.32853619],\n",
       "       [0.3485312 ],\n",
       "       [0.35117963],\n",
       "       [0.36480673],\n",
       "       [0.37202125],\n",
       "       [0.38210625],\n",
       "       [0.40093095],\n",
       "       [0.41859858],\n",
       "       [0.43644282],\n",
       "       [0.45013304],\n",
       "       [0.46356615],\n",
       "       [0.47505731],\n",
       "       [0.48511119],\n",
       "       [0.48824909],\n",
       "       [0.50512174],\n",
       "       [0.51395475],\n",
       "       [0.52880115],\n",
       "       [0.5369859 ],\n",
       "       [0.55716693],\n",
       "       [0.56610666],\n",
       "       [0.58151838],\n",
       "       [0.59541465],\n",
       "       [0.60669965],\n",
       "       [0.62002124],\n",
       "       [0.62833582],\n",
       "       [0.63548869],\n",
       "       [0.6433642 ],\n",
       "       [0.6539057 ],\n",
       "       [0.66188339],\n",
       "       [0.67041405],\n",
       "       [0.67796075],\n",
       "       [0.6887377 ],\n",
       "       [0.69603191],\n",
       "       [0.70099458],\n",
       "       [0.70699795],\n",
       "       [0.71195733],\n",
       "       [0.71831374],\n",
       "       [0.72508072],\n",
       "       [0.7304619 ],\n",
       "       [0.7360497 ],\n",
       "       [0.74037275],\n",
       "       [0.74612986],\n",
       "       [0.75055137],\n",
       "       [0.75548314],\n",
       "       [0.759695  ],\n",
       "       [0.76397676],\n",
       "       [0.76849622],\n",
       "       [0.77219304],\n",
       "       [0.77575881],\n",
       "       [0.7802525 ],\n",
       "       [0.78594874],\n",
       "       [0.79079833],\n",
       "       [0.7972196 ],\n",
       "       [0.80135621],\n",
       "       [0.80651822],\n",
       "       [0.81111943],\n",
       "       [0.81536478],\n",
       "       [0.81932952],\n",
       "       [0.82413377],\n",
       "       [0.82801013],\n",
       "       [0.83161504],\n",
       "       [0.83524029],\n",
       "       [0.83891848],\n",
       "       [0.84222668],\n",
       "       [0.84637104],\n",
       "       [0.85044711],\n",
       "       [0.85390095],\n",
       "       [0.85850366],\n",
       "       [0.86230074],\n",
       "       [0.86621327],\n",
       "       [0.87026589],\n",
       "       [0.87417201],\n",
       "       [0.87799484],\n",
       "       [0.88140511],\n",
       "       [0.88459314],\n",
       "       [0.8877336 ],\n",
       "       [0.89115003],\n",
       "       [0.89462876],\n",
       "       [0.89812112],\n",
       "       [0.90146103],\n",
       "       [0.90457453],\n",
       "       [0.90782659],\n",
       "       [0.91107714],\n",
       "       [0.91437022],\n",
       "       [0.91753453],\n",
       "       [0.92059456],\n",
       "       [0.92353677],\n",
       "       [0.92636778],\n",
       "       [0.92909413],\n",
       "       [0.93172663],\n",
       "       [0.93450849],\n",
       "       [0.9373103 ],\n",
       "       [0.94011899],\n",
       "       [0.94272997],\n",
       "       [0.9450719 ],\n",
       "       [0.94740643],\n",
       "       [0.95005605],\n",
       "       [0.95275174],\n",
       "       [0.95552762],\n",
       "       [0.95836554],\n",
       "       [0.96099568],\n",
       "       [0.96355459],\n",
       "       [0.96619654],\n",
       "       [0.96889725],\n",
       "       [0.97155962],\n",
       "       [0.9743129 ],\n",
       "       [0.97715767],\n",
       "       [0.9798369 ],\n",
       "       [0.98230022],\n",
       "       [0.98470093],\n",
       "       [0.98708706],\n",
       "       [0.98960711],\n",
       "       [0.99225827],\n",
       "       [0.99504726],\n",
       "       [0.99767116],\n",
       "       [1.        ]])"
      ]
     },
     "execution_count": 431,
     "metadata": {},
     "output_type": "execute_result"
    }
   ],
   "source": [
    "df"
   ]
  },
  {
   "cell_type": "code",
   "execution_count": 432,
   "metadata": {},
   "outputs": [
    {
     "name": "stdout",
     "output_type": "stream",
     "text": [
      "128.0\n"
     ]
    }
   ],
   "source": [
    "print(len(df)-len(df)*0.2)"
   ]
  },
  {
   "cell_type": "code",
   "execution_count": 433,
   "metadata": {},
   "outputs": [],
   "source": [
    "train=df[:128]\n",
    "test=df[128:]"
   ]
  },
  {
   "cell_type": "code",
   "execution_count": 434,
   "metadata": {},
   "outputs": [
    {
     "name": "stdout",
     "output_type": "stream",
     "text": [
      "(128, 1)\n",
      "(32, 1)\n"
     ]
    }
   ],
   "source": [
    "print(train.shape)\n",
    "print(test.shape)"
   ]
  },
  {
   "cell_type": "code",
   "execution_count": 435,
   "metadata": {},
   "outputs": [],
   "source": [
    "def create_batch(data,batch_size):\n",
    "    x_data=[]\n",
    "    y_data=[]\n",
    "    for i in range(1,len(data)-batch_size):\n",
    "        x_data.append(data[i:i+batch_size])\n",
    "        y_data.append(data[i+batch_size:i+batch_size+1])\n",
    "    return numpy.array(x_data),numpy.array(y_data)"
   ]
  },
  {
   "cell_type": "code",
   "execution_count": 491,
   "metadata": {},
   "outputs": [],
   "source": [
    "batch_size=20\n",
    "x_train,y_train=create_batch(train,batch_size)\n",
    "x_test,y_test=create_batch(test,batch_size)"
   ]
  },
  {
   "cell_type": "code",
   "execution_count": 437,
   "metadata": {},
   "outputs": [
    {
     "name": "stdout",
     "output_type": "stream",
     "text": [
      "(107, 20, 1)\n",
      "(107, 1, 1)\n"
     ]
    }
   ],
   "source": [
    "print(x_train.shape)\n",
    "print(y_train.shape)"
   ]
  },
  {
   "cell_type": "code",
   "execution_count": 438,
   "metadata": {},
   "outputs": [
    {
     "name": "stdout",
     "output_type": "stream",
     "text": [
      "(11, 20, 1)\n",
      "(11, 1, 1)\n"
     ]
    }
   ],
   "source": [
    "print(x_test.shape)\n",
    "print(y_test.shape)"
   ]
  },
  {
   "cell_type": "code",
   "execution_count": 439,
   "metadata": {},
   "outputs": [],
   "source": [
    "y_train=y_train.reshape(-1,1)\n",
    "y_test=y_test.reshape(-1,1)"
   ]
  },
  {
   "cell_type": "code",
   "execution_count": 440,
   "metadata": {},
   "outputs": [
    {
     "name": "stdout",
     "output_type": "stream",
     "text": [
      "(107, 20, 1)\n",
      "(107, 1)\n"
     ]
    }
   ],
   "source": [
    "print(x_train.shape)\n",
    "print(y_train.shape)"
   ]
  },
  {
   "cell_type": "code",
   "execution_count": 441,
   "metadata": {},
   "outputs": [
    {
     "name": "stdout",
     "output_type": "stream",
     "text": [
      "(11, 20, 1)\n",
      "(11, 1)\n"
     ]
    }
   ],
   "source": [
    "print(x_test.shape)\n",
    "print(y_test.shape)"
   ]
  },
  {
   "cell_type": "code",
   "execution_count": 323,
   "metadata": {},
   "outputs": [],
   "source": [
    "model=Sequential()\n",
    "model.add(LSTM(40,return_sequences=True,input_shape=(20,1)))\n",
    "model.add(LSTM(40,return_sequences=True))\n",
    "model.add(LSTM(20))\n",
    "model.add(Dense(1))\n",
    "\n",
    "\n",
    "model.compile(optimizer=\"adam\",loss=\"mean_squared_error\")"
   ]
  },
  {
   "cell_type": "code",
   "execution_count": 324,
   "metadata": {},
   "outputs": [
    {
     "name": "stdout",
     "output_type": "stream",
     "text": [
      "Model: \"sequential_8\"\n",
      "_________________________________________________________________\n",
      "Layer (type)                 Output Shape              Param #   \n",
      "=================================================================\n",
      "lstm_19 (LSTM)               (None, 20, 40)            6720      \n",
      "_________________________________________________________________\n",
      "lstm_20 (LSTM)               (None, 20, 40)            12960     \n",
      "_________________________________________________________________\n",
      "lstm_21 (LSTM)               (None, 20)                4880      \n",
      "_________________________________________________________________\n",
      "dense_7 (Dense)              (None, 1)                 21        \n",
      "=================================================================\n",
      "Total params: 24,581\n",
      "Trainable params: 24,581\n",
      "Non-trainable params: 0\n",
      "_________________________________________________________________\n"
     ]
    }
   ],
   "source": [
    "model.summary()"
   ]
  },
  {
   "cell_type": "code",
   "execution_count": 406,
   "metadata": {},
   "outputs": [
    {
     "name": "stdout",
     "output_type": "stream",
     "text": [
      "Train on 107 samples, validate on 11 samples\n",
      "Epoch 1/10\n",
      "107/107 [==============================] - 70s 650ms/step - loss: 0.0014 - val_loss: 0.0024\n",
      "Epoch 2/10\n",
      "107/107 [==============================] - 70s 656ms/step - loss: 0.0014 - val_loss: 0.0036\n",
      "Epoch 3/10\n",
      "107/107 [==============================] - 74s 695ms/step - loss: 0.0014 - val_loss: 0.0037\n",
      "Epoch 4/10\n",
      "107/107 [==============================] - 63s 586ms/step - loss: 0.0014 - val_loss: 0.0031\n",
      "Epoch 5/10\n",
      "107/107 [==============================] - 62s 580ms/step - loss: 0.0014 - val_loss: 0.0038\n",
      "Epoch 6/10\n",
      "107/107 [==============================] - 62s 576ms/step - loss: 0.0014 - val_loss: 0.0043\n",
      "Epoch 7/10\n",
      "107/107 [==============================] - 62s 579ms/step - loss: 0.0014 - val_loss: 0.0031\n",
      "Epoch 8/10\n",
      "107/107 [==============================] - 62s 575ms/step - loss: 0.0014 - val_loss: 0.0030\n",
      "Epoch 9/10\n",
      "107/107 [==============================] - 61s 572ms/step - loss: 0.0014 - val_loss: 0.0035\n",
      "Epoch 10/10\n",
      "107/107 [==============================] - 62s 580ms/step - loss: 0.0013 - val_loss: 0.0022\n"
     ]
    },
    {
     "data": {
      "text/plain": [
       "<keras.callbacks.callbacks.History at 0x1fcf5a73fc8>"
      ]
     },
     "execution_count": 406,
     "metadata": {},
     "output_type": "execute_result"
    }
   ],
   "source": [
    "model.fit(x_train,y_train,validation_data=(x_test,y_test),verbose=1,epochs=10)"
   ]
  },
  {
   "cell_type": "code",
   "execution_count": 442,
   "metadata": {},
   "outputs": [],
   "source": [
    "train_predict=model.predict(x_train)\n",
    "test_predict=model.predict(x_test)"
   ]
  },
  {
   "cell_type": "code",
   "execution_count": 444,
   "metadata": {},
   "outputs": [
    {
     "data": {
      "text/plain": [
       "array([[0.933286  ],\n",
       "       [0.93464935],\n",
       "       [0.9360073 ],\n",
       "       [0.9373619 ],\n",
       "       [0.9387133 ],\n",
       "       [0.9400601 ],\n",
       "       [0.941399  ],\n",
       "       [0.94272774],\n",
       "       [0.9440461 ],\n",
       "       [0.9453563 ],\n",
       "       [0.94666094]], dtype=float32)"
      ]
     },
     "execution_count": 444,
     "metadata": {},
     "output_type": "execute_result"
    }
   ],
   "source": [
    "test_predict"
   ]
  },
  {
   "cell_type": "code",
   "execution_count": 448,
   "metadata": {},
   "outputs": [],
   "source": [
    "test_predict=scaler.inverse_transform(test_predict)\n",
    "train_predict=scaler.inverse_transform(train_predict)"
   ]
  },
  {
   "cell_type": "code",
   "execution_count": 449,
   "metadata": {},
   "outputs": [
    {
     "data": {
      "text/plain": [
       "array([[ 0.        ],\n",
       "       [ 0.        ],\n",
       "       [ 0.69314718],\n",
       "       [ 1.09861229],\n",
       "       [ 1.09861229],\n",
       "       [ 1.09861229],\n",
       "       [ 1.09861229],\n",
       "       [ 1.09861229],\n",
       "       [ 1.09861229],\n",
       "       [ 1.09861229],\n",
       "       [ 1.09861229],\n",
       "       [ 1.09861229],\n",
       "       [ 1.09861229],\n",
       "       [ 1.09861229],\n",
       "       [ 1.09861229],\n",
       "       [ 1.09861229],\n",
       "       [ 1.09861229],\n",
       "       [ 1.09861229],\n",
       "       [ 1.09861229],\n",
       "       [ 1.09861229],\n",
       "       [ 1.09861229],\n",
       "       [ 1.09861229],\n",
       "       [ 1.09861229],\n",
       "       [ 1.09861229],\n",
       "       [ 1.09861229],\n",
       "       [ 1.09861229],\n",
       "       [ 1.09861229],\n",
       "       [ 1.09861229],\n",
       "       [ 1.09861229],\n",
       "       [ 1.09861229],\n",
       "       [ 1.09861229],\n",
       "       [ 1.09861229],\n",
       "       [ 1.60943791],\n",
       "       [ 1.79175947],\n",
       "       [ 3.33220451],\n",
       "       [ 3.40119738],\n",
       "       [ 3.4339872 ],\n",
       "       [ 3.52636052],\n",
       "       [ 3.66356165],\n",
       "       [ 3.8286414 ],\n",
       "       [ 4.06044301],\n",
       "       [ 4.09434456],\n",
       "       [ 4.30406509],\n",
       "       [ 4.39444915],\n",
       "       [ 4.4308168 ],\n",
       "       [ 4.70048037],\n",
       "       [ 4.73619845],\n",
       "       [ 4.91998093],\n",
       "       [ 5.01727984],\n",
       "       [ 5.15329159],\n",
       "       [ 5.40717177],\n",
       "       [ 5.6454469 ],\n",
       "       [ 5.88610403],\n",
       "       [ 6.07073773],\n",
       "       [ 6.25190388],\n",
       "       [ 6.40687999],\n",
       "       [ 6.54247196],\n",
       "       [ 6.58479139],\n",
       "       [ 6.81234509],\n",
       "       [ 6.93147181],\n",
       "       [ 7.13169851],\n",
       "       [ 7.24208236],\n",
       "       [ 7.51425465],\n",
       "       [ 7.63482068],\n",
       "       [ 7.84267147],\n",
       "       [ 8.03008409],\n",
       "       [ 8.18227974],\n",
       "       [ 8.36194191],\n",
       "       [ 8.4740769 ],\n",
       "       [ 8.57054437],\n",
       "       [ 8.67675776],\n",
       "       [ 8.81892609],\n",
       "       [ 8.92651751],\n",
       "       [ 9.04156663],\n",
       "       [ 9.1433455 ],\n",
       "       [ 9.28868934],\n",
       "       [ 9.38706295],\n",
       "       [ 9.45399218],\n",
       "       [ 9.53495689],\n",
       "       [ 9.60184177],\n",
       "       [ 9.68756785],\n",
       "       [ 9.77883095],\n",
       "       [ 9.85140447],\n",
       "       [ 9.92676453],\n",
       "       [ 9.98506754],\n",
       "       [10.06271106],\n",
       "       [10.12234192],\n",
       "       [10.18885445],\n",
       "       [10.24565781],\n",
       "       [10.30340396],\n",
       "       [10.36435583],\n",
       "       [10.41421317],\n",
       "       [10.46230302],\n",
       "       [10.52290746],\n",
       "       [10.59972994],\n",
       "       [10.66513415],\n",
       "       [10.75173496],\n",
       "       [10.8075235 ],\n",
       "       [10.87714112],\n",
       "       [10.93919554],\n",
       "       [10.99645058],\n",
       "       [11.04992128],\n",
       "       [11.11471399],\n",
       "       [11.16699262],\n",
       "       [11.21561048],\n",
       "       [11.26450257],\n",
       "       [11.31410861],\n",
       "       [11.35872478],\n",
       "       [11.4146178 ],\n",
       "       [11.4695899 ],\n",
       "       [11.5161702 ],\n",
       "       [11.57824493],\n",
       "       [11.62945438],\n",
       "       [11.68222088],\n",
       "       [11.73687669],\n",
       "       [11.7895567 ],\n",
       "       [11.84111348],\n",
       "       [11.88710628],\n",
       "       [11.93010173],\n",
       "       [11.97245569],\n",
       "       [12.01853149],\n",
       "       [12.06544758],\n",
       "       [12.11254737],\n",
       "       [12.15759118],\n",
       "       [12.19958162],\n",
       "       [12.24344068],\n",
       "       [12.28727929],\n",
       "       [12.33169157],\n",
       "       [12.37436711],\n",
       "       [12.41563641],\n",
       "       [12.4553166 ],\n",
       "       [12.49349718],\n",
       "       [12.53026624],\n",
       "       [12.56576952],\n",
       "       [12.60328714],\n",
       "       [12.6410739 ],\n",
       "       [12.67895338],\n",
       "       [12.71416654],\n",
       "       [12.745751  ],\n",
       "       [12.77723579],\n",
       "       [12.81296998],\n",
       "       [12.84932555],\n",
       "       [12.88676256],\n",
       "       [12.9250362 ],\n",
       "       [12.96050776],\n",
       "       [12.99501852],\n",
       "       [13.03064932],\n",
       "       [13.06707263],\n",
       "       [13.1029787 ],\n",
       "       [13.14011095],\n",
       "       [13.17847713],\n",
       "       [13.21461069],\n",
       "       [13.24783236],\n",
       "       [13.28020951],\n",
       "       [13.31239017],\n",
       "       [13.34637695],\n",
       "       [13.38213197],\n",
       "       [13.41974575],\n",
       "       [13.45513305],\n",
       "       [13.4865411 ]])"
      ]
     },
     "execution_count": 449,
     "metadata": {},
     "output_type": "execute_result"
    }
   ],
   "source": [
    "df=scaler.inverse_transform(df)\n",
    "df"
   ]
  },
  {
   "cell_type": "code",
   "execution_count": null,
   "metadata": {},
   "outputs": [],
   "source": []
  },
  {
   "cell_type": "code",
   "execution_count": 451,
   "metadata": {},
   "outputs": [
    {
     "data": {
      "text/plain": [
       "[<matplotlib.lines.Line2D at 0x1fcf14bf208>]"
      ]
     },
     "execution_count": 451,
     "metadata": {},
     "output_type": "execute_result"
    },
    {
     "data": {
      "image/png": "[encoded data removed]",
      "text/plain": [
       "<Figure size 432x288 with 1 Axes>"
      ]
     },
     "metadata": {
      "needs_background": "light"
     },
     "output_type": "display_data"
    }
   ],
   "source": [
    "plt.plot(df)\n",
    "plt.plot(train_predict)\n",
    "plt.plot(test_predict)"
   ]
  },
  {
   "cell_type": "code",
   "execution_count": 547,
   "metadata": {},
   "outputs": [
    {
     "data": {
      "image/png": "[encoded data removed]",
      "text/plain": [
       "<Figure size 432x288 with 1 Axes>"
      ]
     },
     "metadata": {
      "needs_background": "light"
     },
     "output_type": "display_data"
    }
   ],
   "source": [
    "trainPredictPlot = numpy.empty_like(df)\n",
    "trainPredictPlot[:, :] = np.nan\n",
    "trainPredictPlot[time_step:len(train_predict)+time_step, :] = train_predict\n",
    "\n",
    "\n",
    "testPredictPlot = numpy.empty_like(df)\n",
    "testPredictPlot[:, :] = numpy.nan\n",
    "testPredictPlot[len(train_predict)+(time_step*2)+1:len(data)-1, :] = test_predict\n",
    "\n",
    "plt.plot(trainPredictPlot,'bo')\n",
    "plt.plot(testPredictPlot,'go')\n",
    "plt.plot(df,'r--')\n",
    "plt.title(\"Covid 19 Forcesting\")\n",
    "plt.xlabel(\"Days\")\n",
    "plt.ylabel(\"log( count )\")\n",
    "plt.show()"
   ]
  },
  {
   "cell_type": "code",
   "execution_count": null,
   "metadata": {},
   "outputs": [],
   "source": []
  },
  {
   "cell_type": "code",
   "execution_count": null,
   "metadata": {},
   "outputs": [],
   "source": []
  },
  {
   "cell_type": "code",
   "execution_count": null,
   "metadata": {},
   "outputs": [],
   "source": []
  },
  {
   "cell_type": "code",
   "execution_count": null,
   "metadata": {},
   "outputs": [],
   "source": []
  },
  {
   "cell_type": "code",
   "execution_count": null,
   "metadata": {},
   "outputs": [],
   "source": []
  },
  {
   "cell_type": "code",
   "execution_count": null,
   "metadata": {},
   "outputs": [],
   "source": []
  },
  {
   "cell_type": "code",
   "execution_count": null,
   "metadata": {},
   "outputs": [],
   "source": []
  },
  {
   "cell_type": "code",
   "execution_count": null,
   "metadata": {},
   "outputs": [],
   "source": []
  },
  {
   "cell_type": "code",
   "execution_count": null,
   "metadata": {},
   "outputs": [],
   "source": []
  }
 ],
 "metadata": {
  "kernelspec": {
   "display_name": "Python 3",
   "language": "python",
   "name": "python3"
  },
  "language_info": {
   "codemirror_mode": {
    "name": "ipython",
    "version": 3
   },
   "file_extension": ".py",
   "mimetype": "text/x-python",
   "name": "python",
   "nbconvert_exporter": "python",
   "pygments_lexer": "ipython3",
   "version": "3.7.6"
  }
 },
 "nbformat": 4,
 "nbformat_minor": 4
}
